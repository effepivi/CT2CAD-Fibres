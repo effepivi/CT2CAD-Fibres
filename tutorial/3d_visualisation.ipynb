{
 "cells": [
  {
   "cell_type": "code",
   "execution_count": 201,
   "metadata": {},
   "outputs": [],
   "source": [
    "import k3d\n",
    "\n",
    "from stl import mesh"
   ]
  },
  {
   "cell_type": "code",
   "execution_count": 163,
   "metadata": {},
   "outputs": [],
   "source": [
    "with open('outputs/matrix.stl', 'rb') as f:\n",
    "    binaray_data = f.read()\n",
    "    matrix_geometry = k3d.factory.stl(binaray_data, \n",
    "                                      color=0x7fc97f, \n",
    "                                      wireframe=False, \n",
    "                                      flat_shading=False,\n",
    "                                      name=\"Ti90Al6V4 Matrix\")\n",
    "    \n",
    "with open('outputs/fibre3_8_fibres.stl', 'rb') as f:\n",
    "    binaray_data = f.read()\n",
    "    fibres_geometry = k3d.factory.stl(binaray_data, \n",
    "                                      color=0xbeaed4, \n",
    "                                      wireframe=False, \n",
    "                                      flat_shading=False,\n",
    "                                      name=\"SiC Fibres\")\n",
    "    \n",
    "with open('outputs/fibre3_8_cores.stl', 'rb') as f:\n",
    "    binaray_data = f.read()\n",
    "    cores_geometry = k3d.factory.stl(binaray_data, \n",
    "                                      color=0xfdc086, \n",
    "                                      wireframe=False, \n",
    "                                      flat_shading=False,\n",
    "                                      name=\"W Cores\")"
   ]
  },
  {
   "cell_type": "code",
   "execution_count": 227,
   "metadata": {},
   "outputs": [],
   "source": [
    "fibre_mesh = mesh.Mesh.from_file('outputs/fibre3_8_fibres.stl')\n",
    "core_mesh = mesh.Mesh.from_file('outputs/fibre3_8_cores.stl')\n",
    "matrix_mesh = mesh.Mesh.from_file('outputs/matrix.stl')\n",
    "\n",
    "matrix_geometry = k3d.mesh(matrix_mesh.vectors.flatten(),\n",
    "                          range(int(matrix_mesh.vectors.flatten().shape[0] / 3)),\n",
    "                          color=0x7fc97f, \n",
    "                          wireframe=False, \n",
    "                          flat_shading=False,\n",
    "                          name=\"Ti90Al6V4 Matrix\",\n",
    "                          opacity = 0.4)\n",
    "    \n",
    "fibres_geometry = k3d.mesh(fibre_mesh.vectors.flatten(),\n",
    "                          range(int(fibre_mesh.vectors.flatten().shape[0] / 3)),\n",
    "                          color=0xbeaed4, \n",
    "                          wireframe=False, \n",
    "                          flat_shading=False,\n",
    "                          name=\"SiC Fibres\",\n",
    "                          opacity = 0.9)\n",
    "\n",
    "cores_geometry = k3d.mesh(core_mesh.vectors.flatten(),\n",
    "                         range(int(core_mesh.vectors.flatten().shape[0] / 3)),\n",
    "                         color=0xfdc086, \n",
    "                         wireframe=False, \n",
    "                         flat_shading=False,\n",
    "                         name=\"W Cores\",\n",
    "                          opacity = 0.4)"
   ]
  },
  {
   "cell_type": "code",
   "execution_count": 228,
   "metadata": {},
   "outputs": [
    {
     "data": {
      "application/vnd.jupyter.widget-view+json": {
       "model_id": "ca35e1d402254074be55291684de2417",
       "version_major": 2,
       "version_minor": 0
      },
      "text/plain": [
       "Output()"
      ]
     },
     "metadata": {},
     "output_type": "display_data"
    }
   ],
   "source": [
    "plot = k3d.plot()\n",
    "plot.background_color = 0xffffff\n",
    "\n",
    "plot += matrix_geometry\n",
    "plot += fibres_geometry\n",
    "plot += cores_geometry\n",
    "\n",
    "plot.display()"
   ]
  },
  {
   "cell_type": "code",
   "execution_count": 219,
   "metadata": {},
   "outputs": [],
   "source": [
    "plot.fetch_screenshot()"
   ]
  },
  {
   "cell_type": "code",
   "execution_count": 220,
   "metadata": {},
   "outputs": [],
   "source": [
    "data = base64.b64decode(plot.screenshot)\n",
    "with open('outputs/CAD_models_3d.png','wb') as fp:\n",
    "    fp.write(data)"
   ]
  },
  {
   "cell_type": "markdown",
   "metadata": {},
   "source": [
    "![](outputs/CAD_models_3d.png)"
   ]
  }
 ],
 "metadata": {
  "kernelspec": {
   "display_name": "Python 3",
   "language": "python",
   "name": "python3"
  },
  "language_info": {
   "codemirror_mode": {
    "name": "ipython",
    "version": 3
   },
   "file_extension": ".py",
   "mimetype": "text/x-python",
   "name": "python",
   "nbconvert_exporter": "python",
   "pygments_lexer": "ipython3",
   "version": "3.8.8"
  }
 },
 "nbformat": 4,
 "nbformat_minor": 4
}
