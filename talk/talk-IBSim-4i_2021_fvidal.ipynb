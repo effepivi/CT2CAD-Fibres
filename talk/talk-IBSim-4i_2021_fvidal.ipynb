{
 "cells": [
  {
   "cell_type": "code",
   "execution_count": 1,
   "id": "9a455ec8-f5d3-4081-adb4-9719dfcf7826",
   "metadata": {
    "slideshow": {
     "slide_type": "skip"
    },
    "tags": [
     "no_markdown"
    ]
   },
   "outputs": [
    {
     "data": {
      "text/html": [
       "<style>\n",
       "\n",
       " body {background-color: blue;}\n",
       "\n",
       ".rendered_html\n",
       "{\n",
       "  color: #2C5494;\n",
       "  /*font-family: Ubuntu; */\n",
       "  font-size: 100%;\n",
       "  line-height: 1.1;\n",
       "  margin: 0.5em 0;\n",
       "  }\n",
       "\n",
       ".title\n",
       "{\n",
       "  color: #498AF3;\n",
       "  font-size: 250%;\n",
       "  font-weight:bold;\n",
       "  line-height: 1.2;\n",
       "  margin: 10px 50px 10px;\n",
       "  }\n",
       "\n",
       ".subtitle\n",
       "{\n",
       "  color: #386BBC;\n",
       "  font-size: 180%;\n",
       "  font-weight:bold;\n",
       "  line-height: 1.2;\n",
       "  margin: 20px 50px 20px;\n",
       "  }\n",
       "\n",
       ".slide-header, p.slide-header\n",
       "{\n",
       "  color: #498AF3;\n",
       "  font-size: 200%;\n",
       "  font-weight:bold;\n",
       "  margin: 0px 20px 10px;\n",
       "  page-break-before: always;\n",
       "  text-align: center;\n",
       "  }\n",
       "\n",
       ".rendered_html h1\n",
       "{\n",
       "  color: #498AF3;\n",
       "  line-height: 1.2;\n",
       "  margin: 0.15em 0em 0.5em;\n",
       "  page-break-before: always;\n",
       "  text-align: center;\n",
       "  }\n",
       "\n",
       "\n",
       ".rendered_html h2\n",
       "{\n",
       "  color: #386BBC;\n",
       "  line-height: 1.2;\n",
       "  margin: 1.1em 0em 0.5em;\n",
       "  }\n",
       "\n",
       ".rendered_html h3\n",
       "{\n",
       "  font-size: 100%;\n",
       "  line-height: 1.2;\n",
       "  margin: 1.1em 0em 0.5em;\n",
       "  }\n",
       "\n",
       ".rendered_html li\n",
       "{\n",
       "  line-height: 1.8;\n",
       "  }\n",
       "\n",
       ".input_prompt, .CodeMirror-lines, .output_area\n",
       "{\n",
       "  font-family: Consolas;\n",
       "  font-size: 120%;\n",
       "  }\n",
       "\n",
       ".gap-above\n",
       "{\n",
       "  padding-top: 200px;\n",
       "  }\n",
       "\n",
       ".gap01\n",
       "{\n",
       "  padding-top: 10px;\n",
       "  }\n",
       "\n",
       ".gap05\n",
       "{\n",
       "  padding-top: 50px;\n",
       "  }\n",
       "\n",
       ".gap1\n",
       "{\n",
       "  padding-top: 100px;\n",
       "  }\n",
       "\n",
       ".gap2\n",
       "{\n",
       "  padding-top: 200px;\n",
       "  }\n",
       "\n",
       ".gap3\n",
       "{\n",
       "  padding-top: 300px;\n",
       "  }\n",
       "\n",
       ".emph\n",
       "{\n",
       "  color: #386BBC;\n",
       "  }\n",
       "\n",
       ".warn\n",
       "{\n",
       "  color: red;\n",
       "  }\n",
       "\n",
       ".center\n",
       "{\n",
       "  text-align: center;\n",
       "  }\n",
       "\n",
       ".nb_link\n",
       "{\n",
       "    padding-bottom: 0.5em;\n",
       "}\n",
       "\n",
       "</style>\n"
      ],
      "text/plain": [
       "<IPython.core.display.HTML object>"
      ]
     },
     "metadata": {},
     "output_type": "display_data"
    }
   ],
   "source": [
    "from IPython.display import Image, HTML\n",
    "\n",
    "# Load and publish CSS\n",
    "style = HTML(open('talk-IBSim-4i_2021_fvidal.css').read())\n",
    "\n",
    "display(style)"
   ]
  },
  {
   "cell_type": "markdown",
   "id": "eaffddc4-7ddd-4576-ac10-d7736ac6e81b",
   "metadata": {
    "slideshow": {
     "slide_type": "slide"
    },
    "tags": []
   },
   "source": [
    "![IBSim-4i 2021](https://cdn.eventsforce.net/files/ef-q5vmtsq56tk6/website/1653/banner-2.jpg)\n",
    "\n",
    "# Optimisation and Simulation of X-ray images: Automatic registration of surface models on synchrotron microtomography data\n",
    "\n",
    "## Franck P. Vidal, Iwan T. Mitchell, and Jean Michel  Létang\n",
    "\n",
    "<div>\n",
    "    <img src=\"A1_FullColour.png\" width=\"150\">\n",
    "    <img src=\"logo-version1.jpg\" width=\"150\">\n",
    "</div>"
   ]
  },
  {
   "cell_type": "markdown",
   "id": "4186d138-1803-4d1a-906c-ee1a77d27a9d",
   "metadata": {
    "slideshow": {
     "slide_type": "slide"
    },
    "tags": []
   },
   "source": [
    "# Acknowledgements\n",
    "\n",
    "- **Jean-Yves Buffière** and **Ce Xiao** of MATEIS laboratory (Lyon), and **Wolfgang Ludwig** of ESRF (Grenoble) for the new projection and CT data,\n",
    "- **NVIDIA Corporation** for the donation of the NVIDIA TITAN Xp GPU used in the development and validation of gVirtualXRay, \n",
    "- **Supercomputing Wales** for the use of its supercomputer, and\n",
    "- **All the volunteers** who participated to the user study."
   ]
  },
  {
   "cell_type": "markdown",
   "id": "48523bde-0891-4fbe-9840-5bc6203d19fe",
   "metadata": {
    "slideshow": {
     "slide_type": "slide"
    },
    "tags": []
   },
   "source": [
    "# Motivations\n",
    "\n",
    "- The presence of **strong imaging artefacts** in **microtomographic X-ray** data makes the **CAD modelling process difficult** to carry out. \n",
    "- As an **alternative to traditional image segmentation techniques**, we propose to **register the CAD models** by deploying a realistic **X-ray simulation on GPU** in an **optimisation** framework. \n",
    "- A **user study** was also conducted to **compare the **measurements made manually** by a cohort of volunteers and **those produced with our framework**. "
   ]
  },
  {
   "cell_type": "markdown",
   "id": "271e2790-f1a1-472e-90fc-bb1d9f4ebc04",
   "metadata": {
    "slideshow": {
     "slide_type": "slide"
    },
    "tags": []
   },
   "source": [
    "# In a Nutshell\n",
    "\n",
    "- Our implementation relies on open source software only. \n",
    "- We numerically modelled the real experiment, taking into account geometrical properties as well as beam hardening, impulse response of the detector, phase contrast, and photon noise. \n",
    "- Parameters of the overall model are then optimised so that X-ray projections of the registered the CAD models match the projections from an actual experiment. "
   ]
  },
  {
   "cell_type": "markdown",
   "id": "56d402e9-d6c6-4e5a-a657-1f0f84967f19",
   "metadata": {
    "cell_style": "split",
    "slideshow": {
     "slide_type": "slide"
    },
    "tags": []
   },
   "source": [
    "# Context: Artefacts in CT\n",
    "\n",
    "![Typical example of a reconstructed slice from a fibre composite where strong CT artefacts are present](figure_01.svg)"
   ]
  },
  {
   "cell_type": "markdown",
   "id": "9ddd5878",
   "metadata": {
    "slideshow": {
     "slide_type": "subslide"
    },
    "tags": []
   },
   "source": [
    "## Two kinds of artefacts are clearly visible\n",
    "\n",
    "- Black and white fringes at the silicon carbide edges: these phase artefacts are similar to some image enhancement techniques like unsharp masking and can be modelled by an additive term involving the Laplacian of the phase shift;\n",
    " - Dark streaks with bright borders, located along alignments of high density tungsten cores: these artefacts are due to beam hardening and the impulse response of the detector. As voxel values in these streaks are darker than what they should be, it means that the linear attenuation coefficients are underestimated in the artefact areas. "
   ]
  },
  {
   "cell_type": "markdown",
   "id": "33311732-2695-4ebb-bfc1-952509017120",
   "metadata": {
    "slideshow": {
     "slide_type": "subslide"
    },
    "tags": []
   },
   "source": [
    "# Linear attenuation coefficients (&mu;) in cm<sup>-1</sup>\n",
    "\n",
    "## from the literature (Theoretical), and from the CT slice of the experiment at ESRF (Experimental)\n",
    "\n",
    "| Structure | Material     | Theoretical | Experimental |\n",
    "|-----------------|------------------|--------------------|----------------|\n",
    "| Core         |  W               |   341.61       | 162.34&plusmn;21.67 |\n",
    "| Fibre         |  SiC            |   2.74            | 5.61&plusmn;5.73  |\n",
    "| Matrix      | Ti90Al6V4 |   13.13          | 12.87&plusmn;3.57 |\n",
    "\n",
    "- **W** &mu; are underestimated by a factor of **2**\n",
    "- **SiC** coefficients are overestimated by a factor of **2**"
   ]
  },
  {
   "cell_type": "markdown",
   "id": "ddb54905-fb48-4b16-8d24-eaef1c9a6cb4",
   "metadata": {},
   "source": [
    "# Image registration as an optimisation algorithm\n",
    "\n",
    "![](figure_03.svg)\n",
    "\n",
    "1. CAD models of the scanned object are generated\n",
    "2. A CT acquisition is simulated to create X-ray projections from the CAD models\n",
    "3. Simulated  X-ray projections are compared with the projections from the real experiments\n",
    "4. An optimisation algorithm tweaks the parameters of the simulation models (CAD & CT acquisition) until convergence\n",
    "\n",
    "**We need a quick way to simulate realistic X-ray projections.** "
   ]
  },
  {
   "cell_type": "markdown",
   "id": "b45a0f5f-9334-4273-bac6-404d7f6d5556",
   "metadata": {},
   "source": [
    "![](https://ibsim.co.uk/events/wp-content/uploads/2020/09/Slide12-1.png)"
   ]
  },
  {
   "cell_type": "markdown",
   "id": "cb6ccc0a-172c-438c-88bd-a51e311d9b5c",
   "metadata": {},
   "source": [
    "# Forward Modelling\n",
    "\n",
    "A projection is often modelled using the polychromatic version of the Beer-Lambert law:\n",
    "\\begin{equation}\n",
    "    \\boldsymbol{I}(x,y) = \\sum_i \\boldsymbol{R}_i \\, \\boldsymbol{N}_i \\; \\exp\\left({-\\sum_j \\mu_j(E_i) \\; \\boldsymbol{d}_j(x,y)}\\right)\n",
    "    \\label{eq:beer}\n",
    "\\end{equation}\n",
    "\n",
    "When the primary spectrum is not monochromatic the measurement in the equation above, $\\boldsymbol{I}$ is the sum of several attenuation laws. We could however compute the effective monochromatic attenuation that would give the same measurement:\n",
    "\\begin{equation}\n",
    "    \\boldsymbol{I}(x,y) = \\boldsymbol{I}_0(x,y) \\; \\exp\\left({-\\sum_j \\mu_j(E_{\\mathrm{eff}}) \\; \\boldsymbol{d}_j(x,y)}\\right)\n",
    "    \\label{eq:beer2}\n",
    "\\end{equation}\n",
    "which is the model considered by CT reconstruction algorithms. **1st source of issue in CT reconstructed images: beam hardening**"
   ]
  },
  {
   "cell_type": "markdown",
   "id": "34cb03d4-f726-4cd9-817d-260186dc7737",
   "metadata": {},
   "source": [
    "# Phase Contrast\n",
    "\n",
    "The contribution to phase contrast for each material is accumulated in a new image:\n",
    "\\begin{equation}\n",
    "    \\mathbf{Phase} = \\sum_j k_j \\; \\boldsymbol{d}_j * \\mathbf{Laplacian}_{\\sigma(j)}\n",
    "    \\label{eq:phase}\n",
    "\\end{equation}\n",
    "<!-- where $k_j$ is a weighting factor corresponding to the contribution of the $j$-th material to phase contrast, \n",
    "$\\sigma(j)$ a parameter controlling the width of the Laplacian operator, and \n",
    "$*$ denotes the convolution of $\\boldsymbol{d}_j$ (the path-length image of the $j$-th material) with a Laplacian kernel implemented as follows:\n",
    " -->\n",
    " \n",
    "\\begin{equation}\n",
    "    \\mathbf{Laplacian}_\\sigma(x,y) = \\left(\\frac{x^2+y^2}{\\sigma^4} - \\frac{1}{\\sigma^2}\\right) \\exp\\left(-\\frac{x^2+y^2}{2\\sigma^2}\\right)\n",
    "    \\label{eq:Laplacian1}\n",
    "\\end{equation}\n",
    "<!-- The final phase contrast model includes two real numbers for each material $j$, $k_j$ and $\\sigma(j)$.\n",
    " -->\n",
    " \n",
    "A pixel-wise subtraction `adds' the phase contrast to the raw projections:\n",
    "\\begin{equation}\n",
    "    \\boldsymbol{I}_p = \\boldsymbol{I} - \\mathbf{Phase}\n",
    "    \\label{eq:Laplacian2}\n",
    "\\end{equation}\n"
   ]
  },
  {
   "cell_type": "markdown",
   "id": "c12e132b-ebd7-48fe-818b-e1338badef02",
   "metadata": {},
   "source": [
    "# Impulse response of the detector\n",
    "\n",
    "The response of the camera (i.e.~the line spread-function (LSF) in our case since the sample is translation invariant) is applied row by row by convolution:\n",
    "\\begin{equation}\n",
    "    \\boldsymbol{I}_{\\mathrm{LSF}} = \\boldsymbol{I}_p * \\mathbf{LSF}\n",
    "\\end{equation}\n",
    "with $\\mathrm{LSF}$ modelled as:\n",
    "\\begin{equation}\n",
    "    \\mathbf{LSF} = \\left(\\frac{a}{c} \\left(1+\\frac{x^2}{c^2}\\right)^{-1}\\!\\!\\!+ \\frac{2b}{\\sqrt{\\pi}d} \\exp\\left(-\\frac{x^2}{d^2}\\right) \\right) \\frac{1}{{\\pi}{a}+{2}{b}}\n",
    "    \\label{eq:lsf}\n",
    "\\end{equation}"
   ]
  },
  {
   "cell_type": "markdown",
   "id": "20aa4a5f-5d21-41f8-b0f4-b521563eedd2",
   "metadata": {
    "jp-MarkdownHeadingCollapsed": true,
    "slideshow": {
     "slide_type": "slide"
    },
    "tags": []
   },
   "source": [
    "# Flat-field Correction\n",
    "\n",
    "Projections are then corrected to account for variations in beam homogeneity and in the pixel-to-pixel sensitivity of the detector:\n",
    "\\begin{equation}\n",
    "\\mathbf{Proj} = \\frac{\\boldsymbol{I}_{\\mathrm{LSF}} - \\boldsymbol{D}}{\\boldsymbol{F} - \\boldsymbol{D}}\n",
    "\\label{eq:flat-fields}\n",
    "\\end{equation}\n",
    "\n",
    "![](figure_02a.svg)\n"
   ]
  },
  {
   "cell_type": "markdown",
   "id": "b04f0a4c-ffbf-4da0-b036-39b8381f945c",
   "metadata": {},
   "source": [
    "# Photon noise\n",
    "\n",
    "Poisson noise is added to the projections  (Lines~67 to 72 of Step~49):\n",
    "\\begin{equation}\n",
    "\\mathbf{NoiseMap} =  \\text{Poisson}\\left[(\\mathbf{Proj} + \\text{bias}) \\times \\text{gain}\\right]\n",
    "\\end{equation}\n",
    "and\n",
    "\\begin{equation}\n",
    "\\mathbf{Proj}_n = \\mathbf{Proj} + \\text{intensity} \\times \\mathbf{NoiseMap}\n",
    "\\end{equation}\n"
   ]
  },
  {
   "cell_type": "markdown",
   "id": "dac40fc2-0e50-4cae-95ec-e6b88413dfd5",
   "metadata": {
    "slideshow": {
     "slide_type": "slide"
    },
    "tags": []
   },
   "source": [
    "# Sinogram\n",
    "\n",
    "We are now able to linearise the transmission tomography data, namely $\\mathbf{Proj}_n$ in the previous equation, and we get the sinogram:\n",
    "\\begin{equation}\n",
    "\\textbf{Sino}=-\\ln\\left(\\textbf{Proj}_n\\right)\n",
    "\\label{eq:sinogram}\n",
    "\\end{equation}\n",
    "\n",
    "![](figure_02b.svg)"
   ]
  },
  {
   "cell_type": "markdown",
   "id": "e5aef917-4ac7-497d-a6da-3e067a89e67c",
   "metadata": {},
   "source": [
    "# CT reconstruction\n",
    "\n",
    "$\\textbf{Sino}$ in the previous equation is the input data used by CT reconstruction algorithms.\n",
    "\n",
    "![](figure_01.svg)"
   ]
  },
  {
   "cell_type": "markdown",
   "id": "98f843a8-6861-4d19-b058-ea710544ea5e",
   "metadata": {},
   "source": [
    "# Extract the W cores\n",
    "\n",
    "## With the Hough Transform\n",
    "![](figure_06.svg)\n",
    "\n",
    "## With the Otsu method\n",
    "![](figure_07.svg)"
   ]
  },
  {
   "cell_type": "markdown",
   "id": "ec5198d0-4ef0-4185-a408-90fe68118885",
   "metadata": {},
   "source": [
    "# Experimental set up at ESRF's ID19 - Microtomography beamline\n",
    "\n",
    "![](figure_05.svg)"
   ]
  },
  {
   "cell_type": "markdown",
   "id": "bdb8df7a-bd69-4dec-8f1f-8de474f637a2",
   "metadata": {},
   "source": [
    "# Summary of the parameters that need to be optimised.\n",
    "\n",
    "|   | **Parameters** |\n",
    "|---|------------------|\n",
    "|         1    | Position of the matrix along the primary axis (in {\\textmu}m)     |\n",
    "|         2    | Position of the matrix along the secondary axis (in {\\textmu}m)   |\n",
    "|         3    | Size of the matrix along the primary axis (in {\\textmu}m)      |\n",
    "|         4    | Size of the matrix along the secondary axis (in {\\textmu}m)      |\n",
    "|         5    | Rotation angle of the matrix  (in degrees)                    |\n",
    "|         6    | Radius of the cores  (in {\\textmu}m)                          |\n",
    "|         7    | Radius of the fibres  (in {\\textmu}m)                          |\n",
    "|         8    | Percentage of 33~keV photons in the beam spectrum               |\n",
    "|         9    | Percentage of 66~keV photons in the beam spectrum        |\n",
    "|        10    | Percentage of 99~keV photons in the beam spectrum         |\n",
    "|        11    | Bias controlling the Poisson noise                        |\n",
    "|        12    | Gain controlling the Poisson noise                     |\n",
    "|        13    | Intensity of the Poisson noise                                 |\n",
    "|        14    | Intensity of the phase contrast for the tungsten core      |\n",
    "|        15    | Spread of the phase contrast for the tungsten core        |\n",
    "|        16    | Intensity of the phase contrast for the SiC fibres             |\n",
    "|        17    | Spread of the phase contrast for the SiC fibres               |\n",
    "|        18    | Intensity of the phase contrast for the Ti90Al6V4 matrix     |\n",
    "|        19    | Spread of the phase contrast for the Ti90Al6V4 matrix      |\n",
    "|        20-23 | Parameters of the LSF |\n"
   ]
  },
  {
   "cell_type": "markdown",
   "id": "dfaae84f-636b-4b73-9481-0df9e63dcf52",
   "metadata": {},
   "source": [
    "# Registration pipeline: Divide and Conquert\n",
    "\n",
    "![](graphical_abstract.png)"
   ]
  },
  {
   "cell_type": "markdown",
   "id": "666c890e-4f1d-4ce3-95c0-7acb27b5714f",
   "metadata": {
    "slideshow": {
     "slide_type": "slide"
    },
    "tags": []
   },
   "source": [
    "# Conclusion & Future Work\n",
    "\n",
    "- Demonstrated how to automatically produce CAD models as an optimisation problem, producing a high cross-correlation between the experimental CT slice and the simulated CT slice. \n",
    "- Choice of objective function is crucial to produce high fidelity results.\n",
    "- Manual measurements can be variable and subject to bias whereas our framework produced more reliable results. \n",
    "- Features seen in the real CT image, including artefacts, were accurately replicated in the CT image reconstructed from the simulated data after registration: \n",
    "    - Linear attenuation coefficients are comparable for all the materials, \n",
    "    - Geometrical properties are accurately recovered, and \n",
    "    - Simulated images reproduce observed experimental artefacts. \n",
    "\n",
    "- Fast and realistic simulation of the imaging chain opens up new perspective:\n",
    "    - For accurate CAD modelling in tomographic X-ray data.\n",
    "    - Inclusion of such models in iterative reconstruction algorithms.\n",
    "    - Correct imaging artefacts and improve the value of linear attenuation coefficients. \n"
   ]
  },
  {
   "cell_type": "code",
   "execution_count": null,
   "id": "50477008-1999-4b8b-8344-1a4a627497b7",
   "metadata": {},
   "outputs": [],
   "source": []
  },
  {
   "cell_type": "code",
   "execution_count": null,
   "id": "7234a47e-79a9-4739-9325-c605850b639b",
   "metadata": {},
   "outputs": [],
   "source": []
  }
 ],
 "metadata": {
  "kernelspec": {
   "display_name": "Python 3",
   "language": "python",
   "name": "python3"
  },
  "language_info": {
   "codemirror_mode": {
    "name": "ipython",
    "version": 3
   },
   "file_extension": ".py",
   "mimetype": "text/x-python",
   "name": "python",
   "nbconvert_exporter": "python",
   "pygments_lexer": "ipython3",
   "version": "3.8.8"
  },
  "rise": {
   "enable_chalkboard": true
  }
 },
 "nbformat": 4,
 "nbformat_minor": 5
}
